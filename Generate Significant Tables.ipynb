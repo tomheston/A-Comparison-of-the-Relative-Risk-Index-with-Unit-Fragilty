{
  "nbformat": 4,
  "nbformat_minor": 0,
  "metadata": {
    "colab": {
      "provenance": [],
      "authorship_tag": "ABX9TyP49N73ZD7MeR1Wc04yBIkH",
      "include_colab_link": true
    },
    "kernelspec": {
      "name": "python3",
      "display_name": "Python 3"
    },
    "language_info": {
      "name": "python"
    }
  },
  "cells": [
    {
      "cell_type": "markdown",
      "metadata": {
        "id": "view-in-github",
        "colab_type": "text"
      },
      "source": [
        "<a href=\"https://colab.research.google.com/github/tomheston/A-Comparison-of-the-Relative-Risk-Index-with-Unit-Fragilty/blob/main/Segments_UFI_vs_FI_vs_RRI_for_Insignificant_P_Values.ipynb\" target=\"_parent\"><img src=\"https://colab.research.google.com/assets/colab-badge.svg\" alt=\"Open In Colab\"/></a>"
      ]
    },
    {
      "cell_type": "code",
      "execution_count": 7,
      "metadata": {
        "colab": {
          "base_uri": "https://localhost:8080/",
          "height": 17
        },
        "id": "HzsC7eEGUNbs",
        "outputId": "70ddb6a7-dd32-4c67-b867-b30968f5bcd6"
      },
      "outputs": [
        {
          "output_type": "display_data",
          "data": {
            "text/plain": [
              "<IPython.core.display.Javascript object>"
            ],
            "application/javascript": [
              "\n",
              "    async function download(id, filename, size) {\n",
              "      if (!google.colab.kernel.accessAllowed) {\n",
              "        return;\n",
              "      }\n",
              "      const div = document.createElement('div');\n",
              "      const label = document.createElement('label');\n",
              "      label.textContent = `Downloading \"${filename}\": `;\n",
              "      div.appendChild(label);\n",
              "      const progress = document.createElement('progress');\n",
              "      progress.max = size;\n",
              "      div.appendChild(progress);\n",
              "      document.body.appendChild(div);\n",
              "\n",
              "      const buffers = [];\n",
              "      let downloaded = 0;\n",
              "\n",
              "      const channel = await google.colab.kernel.comms.open(id);\n",
              "      // Send a message to notify the kernel that we're ready.\n",
              "      channel.send({})\n",
              "\n",
              "      for await (const message of channel.messages) {\n",
              "        // Send a message to notify the kernel that we're ready.\n",
              "        channel.send({})\n",
              "        if (message.buffers) {\n",
              "          for (const buffer of message.buffers) {\n",
              "            buffers.push(buffer);\n",
              "            downloaded += buffer.byteLength;\n",
              "            progress.value = downloaded;\n",
              "          }\n",
              "        }\n",
              "      }\n",
              "      const blob = new Blob(buffers, {type: 'application/binary'});\n",
              "      const a = document.createElement('a');\n",
              "      a.href = window.URL.createObjectURL(blob);\n",
              "      a.download = filename;\n",
              "      div.appendChild(a);\n",
              "      a.click();\n",
              "      div.remove();\n",
              "    }\n",
              "  "
            ]
          },
          "metadata": {}
        },
        {
          "output_type": "display_data",
          "data": {
            "text/plain": [
              "<IPython.core.display.Javascript object>"
            ],
            "application/javascript": [
              "download(\"download_46e89b53-3b1b-417c-bf2c-b42209328ca1\", \"Insignificant.csv\", 536613)"
            ]
          },
          "metadata": {}
        }
      ],
      "source": [
        "#\n",
        "#\n",
        "# This program calculates the fragility index, the unit fragility index,\n",
        "# the relative risk index, and the p-value for a standard 2x2 contingency\n",
        "# table were the base p-value is > 0.05\n",
        "#\n",
        "# Thomas F. Heston\n",
        "# GNU GPL v3.0\n",
        "# Please provide a citation to this program or the associated\n",
        "# manuscript if you find this useful. Thank you!\n",
        "# https://faculty.washington.edu/theston\n",
        "#\n",
        "#\n",
        "\n",
        "import pandas as pd\n",
        "from scipy.stats import fisher_exact\n",
        "import numpy as np\n",
        "\n",
        "lowran = 20\n",
        "highestran = 480\n",
        "toppv = 0.1\n",
        "lowpv = 0.05\n",
        "cases_per_range = 200\n",
        "pv_ranges = [(0.05, 0.055), (0.055,0.06), (0.06, 0.065), (0.065, 0.07), (0.07, 0.075), (0.075,0.08),(0.08, 0.085), (0.085, 0.09), (0.09, 0.095), (0.095, 0.1)]\n",
        "total_cases = len(pv_ranges) * cases_per_range\n",
        "\n",
        "def generate_data_and_pvalues():\n",
        "    data = []\n",
        "    pv_counter = {pv_range: 0 for pv_range in pv_ranges}\n",
        "    while not all(count >= cases_per_range for count in pv_counter.values()):\n",
        "        highran = np.random.randint(lowran + 1, highestran)\n",
        "        ao, bo, co, do = [int(x) for x in np.random.randint(lowran, highran, 4)]\n",
        "        if len(set([ao, bo, co, do])) < 4:\n",
        "            continue\n",
        "        _, pv = fisher_exact([[ao, bo], [co, do]])\n",
        "        for pv_min, pv_max in pv_ranges:\n",
        "            if pv_min <= pv <= pv_max:\n",
        "                if pv_counter[(pv_min, pv_max)] < cases_per_range:\n",
        "                    greatest = max(ao, bo, co, do)\n",
        "                    pred1=ao/(ao+bo)\n",
        "                    pred2=co/(co+do)\n",
        "                    max_iter = 200\n",
        "                    count = 0\n",
        "                    pv1=1\n",
        "                    fi=1\n",
        "                    while pv1 > lowpv and count < 100:\n",
        "                      if pred1 > pred2:\n",
        "                        a1, b1, c1, d1 = ao+fi, bo-fi, co, do\n",
        "                      else:\n",
        "                        a1, b1, c1, d1 = ao, bo, co+fi, do-fi\n",
        "                      if any(val <= 0 for val in [a1, b1, c1, d1]):\n",
        "                        count +=1\n",
        "                        continue\n",
        "                      _, pv1 = fisher_exact([[a1, b1], [c1, d1]])\n",
        "                      if pv1 > lowpv:\n",
        "                        fi += 1\n",
        "                        count += 1\n",
        "                    count = 1\n",
        "                    ufi=1\n",
        "                    pv2=1\n",
        "                    while pv2 > lowpv and count < 100:\n",
        "                      if pred1 > pred2:\n",
        "                        a2, b2, c2, d2 = ao+ufi, bo-ufi, co-ufi, do+ufi\n",
        "                      else:\n",
        "                        a2, b2, c2, d2 = ao-ufi, bo+ufi, co+ufi, do-ufi\n",
        "                      if any(val <= 0 for val in [a2, b2, c2, d2]):\n",
        "                        count +=1\n",
        "                        continue\n",
        "                      _, pv2 = fisher_exact([[a2, b2], [c2, d2]])\n",
        "                      if pv2 > lowpv:\n",
        "                        ufi += 1\n",
        "                        count += 1\n",
        "                    total = ao + bo + co + do\n",
        "                    ufi = -ufi\n",
        "                    fi = -fi\n",
        "                    FQ1 = fi / total\n",
        "                    FQ2 = ufi / total\n",
        "                    RRI = abs((bo * co - ao * do) / total)\n",
        "                    pRRI = RRI / total\n",
        "                    size = total\n",
        "                    ppv1 = ao / (ao + bo)\n",
        "                    ppv2 = co / (co + do)\n",
        "                    ao2, bo2, co2, do2 = ao, bo, co, do\n",
        "                    if ppv1>ppv2:\n",
        "                      ppv3a=(ao2-RRI)/(ao2+bo2)\n",
        "                      ppv3b=(co2+RRI)/(co2+do2)\n",
        "                    elif ppv1<ppv2:\n",
        "                      ppv3a=(ao2+RRI)/(ao2+bo2)\n",
        "                      ppv3b=(co2-RRI)/(co2+do2)\n",
        "                    data.append([ao, bo, co, do, pv, a1, b1, c1, d1, pv1, fi, FQ1, a2, b2, c2, d2, pv2, ufi, FQ2, ppv1, ppv2, ppv3a, ppv3b, RRI, pRRI, size])\n",
        "                    pv_counter[(pv_min, pv_max)] += 1\n",
        "\n",
        "    columns = ['ao', 'bo', 'co', 'do', 'pv', 'a1', 'b1', 'c1', 'd1', 'pv1', 'fi', 'FQ1', 'a2', 'b2', 'c2', 'd2', 'pv2', 'ufi', 'FQ2', 'ppv1', 'ppv2', 'ppv3a', 'ppv3b', 'RRI', 'pRRI', 'size']\n",
        "    df = pd.DataFrame(data, columns=columns)\n",
        "    return df\n",
        "\n",
        "df = generate_data_and_pvalues()\n",
        "df.to_csv('Insignificant.csv', index=False)\n",
        "from google.colab import files\n",
        "files.download('Insignificant.csv')"
      ]
    }
  ]
}
